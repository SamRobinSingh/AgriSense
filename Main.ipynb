{
 "cells": [
  {
   "cell_type": "code",
   "execution_count": 1,
   "metadata": {},
   "outputs": [],
   "source": [
    "import numpy as np\n",
    "from tensorflow.keras.models import load_model\n",
    "from tensorflow.keras.preprocessing import image\n",
    "import pandas as pd\n",
    "\n"
   ]
  },
  {
   "cell_type": "code",
   "execution_count": null,
   "metadata": {},
   "outputs": [
    {
     "name": "stderr",
     "output_type": "stream",
     "text": [
      "WARNING:absl:Compiled the loaded model, but the compiled metrics have yet to be built. `model.compile_metrics` will be empty until you train or evaluate the model.\n"
     ]
    },
    {
     "name": "stdout",
     "output_type": "stream",
     "text": [
      "Columns in the dataset: Index(['DISEASE NAME', 'DESCRIPTION', 'SOLUTION'], dtype='object')\n",
      "\u001b[1m1/1\u001b[0m \u001b[32m━━━━━━━━━━━━━━━━━━━━\u001b[0m\u001b[37m\u001b[0m \u001b[1m0s\u001b[0m 305ms/step\n",
      "Predicted class index: 2\n",
      "Disease: Tomato___Late_blight\n",
      "Description: Late blight is caused by Phytophthora infestans. Symptoms are water-soaked lesions on leaves and fruit. It thrives in cool, wet conditions. Control measures include fungicides and resistant varieties. It can cause significant crop loss.\n",
      "Solutions: Use fungicides and resistant varieties. Destroy infected plants immediately. Avoid overhead watering and provide good air circulation. Monitor weather conditions and apply treatments preventatively. Practice crop rotation and sanitation.\n"
     ]
    }
   ],
   "source": [
    "import numpy as np\n",
    "import pandas as pd\n",
    "from tensorflow.keras.preprocessing import image\n",
    "from tensorflow.keras.models import load_model\n",
    "\n",
    "model = load_model(r'C:\\APPs\\Project\\Agri app\\Disease_Detection\\cnn_model1.h5')\n",
    "\n",
    "df_descriptions = pd.read_csv(r'C:\\APPs\\Project\\Agri app\\Disease_Detection\\Disease_data_final.csv')\n",
    "\n",
    "print(\"Columns in the dataset:\", df_descriptions.columns)\n",
    "\n",
    "def preprocess_image(img_path):\n",
    "    \"\"\"Load and preprocess the image.\"\"\"\n",
    "    img = image.load_img(img_path, target_size=(224, 224))  # Adjust size if needed\n",
    "    img_array = image.img_to_array(img)\n",
    "    img_array = np.expand_dims(img_array, axis=0)\n",
    "    img_array /= 255.0  # Normalize image\n",
    "    return img_array\n",
    "\n",
    "def predict_disease(img_path):\n",
    "    \"\"\"Predict the disease from the image and return the description and solutions.\"\"\"\n",
    "    img_array = preprocess_image(img_path)\n",
    "    prediction = model.predict(img_array)\n",
    "    class_index = np.argmax(prediction, axis=1)[0]\n",
    "\n",
    "    if class_index >= len(df_descriptions):\n",
    "        raise IndexError(\"Predicted class index is out of bounds of the descriptions dataset.\")\n",
    "    \n",
    "    print(\"Predicted class index:\", class_index)\n",
    "\n",
    "    try:\n",
    "        disease_name = df_descriptions.iloc[class_index]['DISEASE NAME']\n",
    "        description = df_descriptions.iloc[class_index]['DESCRIPTION']\n",
    "        solutions = df_descriptions.iloc[class_index]['SOLUTION']\n",
    "    except KeyError as e:\n",
    "        print(f\"KeyError: {e}. Please check the column names in the CSV file.\")\n",
    "        raise\n",
    "\n",
    "    return disease_name, description, solutions\n",
    "\n",
    "img_path = r'C:\\APPs\\Project\\Agri app\\Disease_Detection\\download (1).jpeg'\n",
    "try:\n",
    "    disease_name, description, solutions = predict_disease(img_path)\n",
    "    print(f\"Disease: {disease_name}\")\n",
    "    print(f\"Description: {description}\")\n",
    "    print(f\"Solutions: {solutions}\")\n",
    "except Exception as e:\n",
    "    print(f\"Error: {e}\")\n"
   ]
  },
  {
   "cell_type": "code",
   "execution_count": null,
   "metadata": {},
   "outputs": [],
   "source": []
  }
 ],
 "metadata": {
  "kernelspec": {
   "display_name": "Python 3",
   "language": "python",
   "name": "python3"
  },
  "language_info": {
   "codemirror_mode": {
    "name": "ipython",
    "version": 3
   },
   "file_extension": ".py",
   "mimetype": "text/x-python",
   "name": "python",
   "nbconvert_exporter": "python",
   "pygments_lexer": "ipython3",
   "version": "3.11.9"
  }
 },
 "nbformat": 4,
 "nbformat_minor": 2
}
